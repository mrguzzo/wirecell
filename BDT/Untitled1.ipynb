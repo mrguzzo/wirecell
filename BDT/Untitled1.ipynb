{
 "cells": [
  {
   "cell_type": "code",
   "execution_count": 1,
   "id": "13308de4-a472-4694-9801-ccf016fff348",
   "metadata": {},
   "outputs": [],
   "source": [
    "import math \n",
    "import numpy as np\n",
    "import pandas as pd\n",
    "import matplotlib.pyplot as plt\n",
    "from matplotlib import gridspec\n",
    "\n",
    "import uproot3 as uproot\n",
    "\n",
    "from sklearn.model_selection import GridSearchCV, train_test_split, cross_val_score\n",
    "from sklearn.utils import shuffle\n",
    "from sklearn.metrics import confusion_matrix, precision_score, recall_score, roc_curve, roc_auc_score, accuracy_score, f1_score\n",
    "\n",
    "import xgboost\n",
    "from xgboost import XGBClassifier"
   ]
  },
  {
   "cell_type": "code",
   "execution_count": 2,
   "id": "f6297160-bbec-49af-baa2-4380d94e0c0a",
   "metadata": {},
   "outputs": [],
   "source": [
    "# --- overlay sample\n",
    "#file3 = '../rootfiles/checkout_prodgenie_numi_overlay_run1.root'\n",
    "file2 = '../rootfiles/checkout_overlay_numi_run1_particle_flow.root' # new sample generated using the unified workflow\n",
    "#file3 = '../rootfiles/checkout_prodgenie_numi_overlay_run1_OFFSETFIXED2.root'\n",
    "\n",
    "\n",
    "# --- intrinsic nue sample\n",
    "#file1 = '../rootfiles/checkout_prodgenie_numi_intrinsic_nue_overlay_run1.root'\n",
    "#file2 = '../rootfiles/checkout_intrinsic_nue_numi_run1_particle_flow.root' # new sample generated using the unified workflow\n",
    "#file3 = '../rootfiles/checkout_prodgenie_numi_intrinsic_nue_overlay_run1_OFFSETFIXED2.root'"
   ]
  },
  {
   "cell_type": "code",
   "execution_count": 3,
   "id": "c276260e-50c1-4c0a-abef-4ed22f1d0727",
   "metadata": {},
   "outputs": [
    {
     "name": "stdout",
     "output_type": "stream",
     "text": [
      "../rootfiles/checkout_overlay_numi_run1_particle_flow.root\n",
      "T_pot     24372 entries\n",
      "T_kine    107221 entries\n",
      "T_BDT     107221 entries\n",
      "T_PFeval  107221 entries\n",
      "T_eval    107221 entries\n",
      "POT       3.90e+07\n",
      "Entries   107221\n",
      "\n"
     ]
    }
   ],
   "source": [
    "kine_vars   = ['kine_reco_Enu','kine_pio_vtx_dis','kine_pio_energy_1']\n",
    "bdt_vars    = ['numu_cc_flag','nue_score']\n",
    "pot_vars    = ['runNo','subRunNo','pot_tor875','pot_tor875good','spill_tor875','spill_tor875good']\n",
    "pfeval_vars = ['truth_corr_nuvtxX','truth_corr_nuvtxY','truth_corr_nuvtxZ','reco_nuvtxX', 'reco_nuvtxY', 'reco_nuvtxZ',\n",
    "               'truth_mother','truth_pdg', 'truth_Ntrack','reco_mother','reco_pdg']\n",
    "eval_vars   = ['truth_isCC','truth_nuPdg','truth_vtxInside','weight_spline', 'weight_cv',\n",
    "               'match_found', 'stm_eventtype', 'stm_lowenergy', 'stm_LM', 'stm_TGM', 'stm_STM', 'stm_FullDead','stm_clusterlength',\n",
    "               'truth_energyInside', 'match_completeness_energy',\n",
    "               'run','subrun','event']\n",
    "\n",
    "# --- variables calculated by me\n",
    "extra_vars  = ['cos_theta'] \n",
    "\n",
    "\n",
    "def create_dataframe(file, family):\n",
    "\n",
    "    # --- import trees and variables\n",
    "    T_pot = uproot.open(file)['wcpselection/T_pot']\n",
    "    df_pot = T_pot.pandas.df(pot_vars, flatten=False)\n",
    "    print('T_pot     %i entries' % len(df_pot))\n",
    "    \n",
    "    T_KINE = uproot.open(file)['wcpselection/T_KINEvars']\n",
    "    df_KINE = T_KINE.pandas.df(kine_vars, flatten=False)\n",
    "    print('T_kine    %i entries' % len(df_KINE))\n",
    "\n",
    "    T_BDT = uproot.open(file)['wcpselection/T_BDTvars']\n",
    "    df_BDT = T_BDT.pandas.df(bdt_vars, flatten=False)\n",
    "    print('T_BDT     %i entries' % len(df_BDT))\n",
    "            \n",
    "    T_PFeval = uproot.open(file)['wcpselection/T_PFeval']\n",
    "    df_PFeval = T_PFeval.pandas.df(pfeval_vars, flatten=False)\n",
    "    print('T_PFeval  %i entries' % len(df_PFeval))\n",
    "\n",
    "    T_eval = uproot.open(file)['wcpselection/T_eval']\n",
    "    df_eval = T_eval.pandas.df(eval_vars, flatten=False)\n",
    "    print('T_eval    %i entries' % len(df_eval))\n",
    "\n",
    "    # --- merge dataframes\n",
    "    df = pd.concat([df_KINE, df_PFeval, df_BDT, df_eval, df_pot], axis=1)\n",
    "\n",
    "    # --- calculate POT\n",
    "    POT = sum(df_pot.pot_tor875)\n",
    "\n",
    "    return df, POT\n",
    "\n",
    "#print('%s' % file1)\n",
    "#df_file1, POT1 = create_dataframe(file1,'MC')\n",
    "#print('POT       %.2e' % POT1)\n",
    "#print('Entries   %i\\n' % len(df_file1))\n",
    "\n",
    "print('%s' % file2)\n",
    "df_file2, POT2 = create_dataframe(file2,'MC')\n",
    "print('POT       %.2e' % POT2)\n",
    "print('Entries   %i\\n' % len(df_file2))\n",
    "\n",
    "#print('%s' % file3)\n",
    "#df_file3, POT3 = create_dataframe(file3,'MC')\n",
    "#print('POT       %.2e' % POT3)\n",
    "#print('Entries   %i\\n' % len(df_file3))"
   ]
  },
  {
   "cell_type": "code",
   "execution_count": 4,
   "id": "485b3617-7710-4e20-864c-a6a87b8be101",
   "metadata": {},
   "outputs": [
    {
     "name": "stdout",
     "output_type": "stream",
     "text": [
      "Remaining events for file3: 107221 ---> 107221\n",
      "Remaining events for file2: 107221 ---> 107221\n"
     ]
    }
   ],
   "source": [
    "def merge_left_only(df_left, df_right):\n",
    "    df = pd.merge(df_left, df_right, on=['run','subrun','event'],suffixes=('', '_delme'), how='left', indicator=True).query(\"_merge == 'both'\")\n",
    "    df_new = df[[c for c in df.columns if not c.endswith('_delme')]]\n",
    "    return df_new\n",
    "\n",
    "df_file3_new = merge_left_only(df_file3,df_file2)\n",
    "print('Remaining events for file3: %i ---> %i' % (len(df_file3),len(df_file3_new)))\n",
    "\n",
    "df_file2_new = merge_left_only(df_file2,df_file3)\n",
    "print('Remaining events for file2: %i ---> %i' % (len(df_file2),len(df_file2_new)))"
   ]
  },
  {
   "cell_type": "markdown",
   "id": "b19d2a88-cbd3-49e6-960e-6d5a65b32808",
   "metadata": {},
   "source": [
    "# Plot run/subrun/event to make sure selection is correct"
   ]
  },
  {
   "cell_type": "code",
   "execution_count": 5,
   "id": "9729a038-8819-4a49-aaa7-55a9f0fc416b",
   "metadata": {
    "tags": []
   },
   "outputs": [
    {
     "data": {
      "image/png": "[encoded data removed]",
      "text/plain": [
       "<Figure size 1080x360 with 3 Axes>"
      ]
     },
     "metadata": {
      "needs_background": "light"
     },
     "output_type": "display_data"
    }
   ],
   "source": [
    "legend_size = 12\n",
    "\n",
    "plt.figure(figsize=(15,5))\n",
    "\n",
    "plt.subplot(131)\n",
    "plt.hist([df_file2_new.event,df_file3_new.event], label=['event (file2)','event(file3)'])\n",
    "plt.legend(loc='best', prop={'size': legend_size})\n",
    "\n",
    "plt.subplot(132)\n",
    "plt.hist([df_file2_new.run,df_file3_new.run], label=['run (file2)','run (file3)'])\n",
    "plt.legend(loc='best', prop={'size': legend_size})\n",
    "\n",
    "plt.subplot(133)\n",
    "plt.hist([df_file2_new.subrun,df_file3_new.subrun], label=['subrun (file2)','subrun(file3)'])\n",
    "plt.legend(loc='best', prop={'size': legend_size})\n",
    "\n",
    "plt.tight_layout()"
   ]
  },
  {
   "cell_type": "markdown",
   "id": "2dd63ad7-7c76-4136-8852-bdb0a593c83c",
   "metadata": {},
   "source": [
    "# Compare distributions"
   ]
  },
  {
   "cell_type": "code",
   "execution_count": 6,
   "id": "5482a1f4-e747-4d62-8044-f9d2cedde6da",
   "metadata": {},
   "outputs": [
    {
     "data": {
      "image/png": "[encoded data removed]",
      "text/plain": [
       "<Figure size 1080x360 with 3 Axes>"
      ]
     },
     "metadata": {
      "needs_background": "light"
     },
     "output_type": "display_data"
    }
   ],
   "source": [
    "plt.figure(figsize=(15,5))\n",
    "\n",
    "plt.subplot(131)\n",
    "plt.hist([df_file2_new.kine_reco_Enu,df_file3_new.kine_reco_Enu], label=['kine_reco_Enu (file2)','kine_reco_Enu(file3)'])\n",
    "plt.legend(loc='best', prop={'size': legend_size})\n",
    "\n",
    "plt.subplot(132)\n",
    "plt.hist([df_file2_new.kine_pio_vtx_dis,df_file3_new.kine_pio_vtx_dis], label=['kine_pio_vtx_dis (file2)','kine_pio_vtx_dis (file3)'])\n",
    "plt.legend(loc='best', prop={'size': legend_size})\n",
    "\n",
    "plt.subplot(133)\n",
    "plt.hist([df_file2_new.kine_pio_energy_1,df_file3_new.kine_pio_energy_1], label=['kine_pio_energy_1 (file2)','kine_pio_energy_1(file3)'])\n",
    "plt.legend(loc='best', prop={'size': legend_size})\n",
    "\n",
    "plt.tight_layout()"
   ]
  },
  {
   "cell_type": "code",
   "execution_count": 7,
   "id": "75501308-e20d-409f-a6dd-e9ab4d5f30c8",
   "metadata": {},
   "outputs": [
    {
     "name": "stdout",
     "output_type": "stream",
     "text": [
      "107221\n"
     ]
    },
    {
     "data": {
      "text/plain": [
       "<matplotlib.legend.Legend at 0x7fd46ed12340>"
      ]
     },
     "execution_count": 7,
     "metadata": {},
     "output_type": "execute_result"
    },
    {
     "data": {
      "image/png": "[encoded data removed]",
      "text/plain": [
       "<Figure size 1080x360 with 3 Axes>"
      ]
     },
     "metadata": {
      "needs_background": "light"
     },
     "output_type": "display_data"
    }
   ],
   "source": [
    "df_combined = pd.merge(df_file2, df_file3, left_on = ['run','subrun','event'], right_on = ['run','subrun','event'], suffixes=['_old','_new'], how='inner') \n",
    "print('%i' % len(df_combined))\n",
    "df_combined.head()\n",
    "\n",
    "plt.figure(figsize=(15,5))\n",
    "\n",
    "plt.subplot(131)\n",
    "abc_kine_reco_Enu = np.array(df_combined['kine_reco_Enu_old'].values) - np.array(df_combined['kine_reco_Enu_new'].values)\n",
    "plt.hist(abc_kine_reco_Enu, label='kine_reco_Enu')\n",
    "plt.legend(loc='best', prop={'size': legend_size})\n",
    "\n",
    "plt.subplot(132)\n",
    "abc_kine_pio_vtx_dis = np.array(df_combined['kine_pio_vtx_dis_old'].values) - np.array(df_combined['kine_pio_vtx_dis_new'].values)\n",
    "plt.hist(abc_kine_pio_vtx_dis, label='kine_pio_vtx_dis')\n",
    "plt.legend(loc='best', prop={'size': legend_size})\n",
    "\n",
    "plt.subplot(133)\n",
    "abc_kine_pio_energy_1 = np.array(df_combined['kine_pio_energy_1_old'].values) - np.array(df_combined['kine_pio_energy_1_new'].values)\n",
    "plt.hist(abc_kine_pio_energy_1, label='kine_pio_energy_1')\n",
    "plt.legend(loc='best', prop={'size': legend_size})"
   ]
  },
  {
   "cell_type": "markdown",
   "id": "e72881e3-4748-41f7-a610-43c3501882a4",
   "metadata": {},
   "source": [
    "# Particle multiplicity"
   ]
  },
  {
   "cell_type": "code",
   "execution_count": 39,
   "id": "5793e272-d36b-462e-b4b2-11bee101a818",
   "metadata": {},
   "outputs": [
    {
     "name": "stdout",
     "output_type": "stream",
     "text": [
      "[array([   0,    0,    0,    0,    0,    5,    5,    5,    5,    5,    5,\n",
      "           5,    5,    5,    5,    5,    5,    5,    4,    4,    1,    1,\n",
      "           1,    1,    1,    1,    1,    1,    1,    1,    1,    1,    1,\n",
      "           1,  222,  222,  820,  815,   90,   90, 1630, 1630, 1642, 1632,\n",
      "        1632, 1729, 1729, 1729, 1729, 1742, 1741, 1737,   89, 1730, 1730,\n",
      "        1631, 1631, 1631, 1631,   52,   52,   52,   52, 2172, 2172, 2172,\n",
      "        2172, 2172,   50,   50, 2202, 2202, 2202, 2202, 2202, 2202, 2211,\n",
      "        2211, 2211, 2211, 2211,   49,   49,   49, 2226, 2226,   46,   46,\n",
      "          46, 2252, 2252, 2252, 2256, 2256, 2084, 2084, 2457, 2457, 2454,\n",
      "        2549, 2549, 2549, 2562, 2562, 2559, 2558, 2127, 2124, 2124, 2122,\n",
      "        3167, 3177, 2109, 3283, 3292, 2108, 2601, 3658, 2493, 2493, 2493,\n",
      "        2493, 2493, 2493, 2493, 2250, 2250, 3712, 3712, 3712,   45,   45,\n",
      "          45,   45,   45,   45,   45, 3731, 3731, 3731, 3730, 3730, 3730,\n",
      "        3730, 3730, 3730, 3730, 3730, 3730, 3730, 3727, 3727, 3727, 3762,\n",
      "        3762, 3766, 3766,   43,   43,   43,   43, 3779, 3779, 3779, 3791,\n",
      "        3791, 3791, 3791, 3796, 3796, 3778, 3778, 3778, 3778, 3829, 3829,\n",
      "        3829, 3829, 3835, 3835, 3834, 3834, 3691, 3691, 3889, 3889, 3705,\n",
      "        3696, 3693, 3693, 3684, 3684, 4669, 4607, 4607, 4710, 4710, 4685],\n",
      "       dtype=int32)\n",
      " array([  0,   0,   0,   3,   2,   2,   2,   2,   1,   8,   8,   6,   6,\n",
      "          6,   6, 395, 395, 395, 395, 395], dtype=int32)\n",
      " array([ 0,  0,  2,  2,  2,  2,  2,  2,  2,  2, 10, 10, 15, 15, 15, 20, 20,\n",
      "         8,  8,  6,  6, 40, 40, 46, 46, 46, 46,  4,  4], dtype=int32)\n",
      " ...\n",
      " array([   0,    0,    0,    0,    0,    5,    4,    4,    4,    4,    4,\n",
      "           2,    2,    2,    2,    1,    1,    1,    1,    1,    1,    1,\n",
      "           1,    1,    1,    1,    1,    1,    1,    1,   29,   29,   29,\n",
      "          75,   64,   63,   63,   59,  247,  264,  264,  264,   57,   57,\n",
      "          55,   53,   53,  430,  436,   49,   49,  483,  483,  489,  489,\n",
      "          39,   39,   34,   34,  740,  740,  782,  776,  394,  222, 1320,\n",
      "         220,  280,  280, 1408, 1408, 1408, 1408, 1408,   26,   26,   21,\n",
      "          21, 1443,   20,   20, 1451, 1451, 1451, 1451, 1451, 1390],\n",
      "       dtype=int32)\n",
      " array([0, 0], dtype=int32)\n",
      " array([ 0,  0,  0,  0,  0,  5,  5,  5,  5,  5,  4,  4,  4, 24, 24, 24,  3,\n",
      "         3,  3,  3,  3,  3, 43, 43, 55,  9,  9,  8,  8,  8,  8,  8,  8,  8,\n",
      "         7,  7,  7,  7, 82], dtype=int32)                                  ]\n"
     ]
    },
    {
     "name": "stderr",
     "output_type": "stream",
     "text": [
      "<ipython-input-39-befba8dbd7ae>:14: DeprecationWarning: elementwise comparison failed; this will raise an error in the future.\n",
      "  np.count_nonzero(abc==0)\n"
     ]
    },
    {
     "data": {
      "text/plain": [
       "0"
      ]
     },
     "execution_count": 39,
     "metadata": {},
     "output_type": "execute_result"
    }
   ],
   "source": [
    "#def calc_particle_multiplicity(df):\n",
    "    \n",
    "    #abc = np.array[df.truth_Ntrack!=0]\n",
    "    #nelectrons = df[(df.truth_Ntrack!=0) & (df.truth_pdg[]==11)]\n",
    "    \n",
    "    #return nelectrons\n",
    "\n",
    "#nelectrons = calc_particle_multiplicity(df_file2)\n",
    "#print('Number of electrons = %i' % len(nelectrons))\n",
    "\n",
    "abc = np.array(df_file2['truth_mother'].values)\n",
    "print(abc)\n",
    "\n",
    "np.count_nonzero(abc==0)"
   ]
  },
  {
   "cell_type": "code",
   "execution_count": 49,
   "id": "a06589dd-0113-4174-a7a9-dc72ec38b3e7",
   "metadata": {},
   "outputs": [],
   "source": [
    "df_file2.loc[:,'Num_neutrons'] = [0]*df_file2.shape[0]\n",
    "for x,y,w in zip(df_file2.truth_mother, df_file2.truth_pdg, range(len(df_file2.truth_mother))):\n",
    "    if (len(x) > 0) & ((2112 in y) | (-2112 in y)): \n",
    "        index_ = [i for i,z in enumerate(y) if (abs(z) == 2112 and x[i] ==0)]\n",
    "        df_file2.loc[w,'Num_neutrons'] = len(index_)"
   ]
  },
  {
   "cell_type": "code",
   "execution_count": 4,
   "id": "c17814db-42d8-4ea1-ac04-c825ef3e4e60",
   "metadata": {},
   "outputs": [],
   "source": [
    "DF = df_file2\n",
    "\n",
    "DF.loc[:,'Num_muons'] = [0]*DF.shape[0]\n",
    "DF.loc[:,'Num_kaons'] = [0]*DF.shape[0]\n",
    "DF.loc[:,'Num_pions'] = [0]*DF.shape[0]\n",
    "DF.loc[:,'Num_protons'] = [0]*DF.shape[0]\n",
    "DF.loc[:,'Num_photons'] = [0]*DF.shape[0]\n",
    "DF.loc[:,'Num_electrons'] = [0]*DF.shape[0]\n",
    "DF.loc[:,'Num_neutrons'] = [0]*DF.shape[0]\n",
    "\n",
    "pdg_N = 2112\n",
    "pdg_mu = 13\n",
    "pdg_k = 321\n",
    "pdg_pi = 211\n",
    "pdg_P = 2212\n",
    "pdg_gamma = 22\n",
    "pdg_e = 11\n",
    "\n",
    "for x,y,w in zip(DF.reco_mother, DF.reco_pdg, range(len(DF.reco_mother))):\n",
    "    if (len(x) > 0) & (pdg_N in y): \n",
    "        index_ = [i for i,z in enumerate(y) if (abs(z) == pdg_N and x[i] ==0)]\n",
    "        DF.loc[w,'Num_neutrons'] = len(index_)\n",
    "    if (len(x) > 0) & ((pdg_mu in y) | (-pdg_mu in y)): \n",
    "        index_ = [i for i,z in enumerate(y) if (abs(z) == pdg_mu and x[i] ==0)]\n",
    "        DF.loc[w,'Num_muons'] = len(index_)\n",
    "    if (len(x) > 0) & ((pdg_k in y) | (-pdg_k in y)): \n",
    "        index_ = [i for i,z in enumerate(y) if (abs(z) == pdg_k and x[i] ==0)]\n",
    "        DF.loc[w,'Num_kaons'] = len(index_)\n",
    "    if (len(x) > 0) & ((pdg_pi in y) | (-pdg_pi in y)): \n",
    "        index_ = [i for i,z in enumerate(y) if (abs(z) == pdg_pi and x[i] ==0)]\n",
    "        DF.loc[w,'Num_pions'] = len(index_)\n",
    "    if (len(x) > 0) & ((pdg_P in y) | (-pdg_P in y)): \n",
    "        index_ = [i for i,z in enumerate(y) if (abs(z) == pdg_P and x[i] ==0)]\n",
    "        DF.loc[w,'Num_protons'] = len(index_)\n",
    "    if (len(x) > 0) & (pdg_gamma in y): \n",
    "        index_ = [i for i,z in enumerate(y) if (abs(z) == pdg_gamma and x[i] ==0)]\n",
    "        DF.loc[w,'Num_photons'] = len(index_)\n",
    "    if (len(x) > 0) & ((pdg_e in y) | (-pdg_e in y)): \n",
    "        index_ = [i for i,z in enumerate(y) if (abs(z) == pdg_e and x[i] ==0)]\n",
    "        DF.loc[w,'Num_electrons'] = len(index_)"
   ]
  },
  {
   "cell_type": "code",
   "execution_count": 5,
   "id": "ba2a6698-2100-49b5-990d-a025cc9b1a95",
   "metadata": {},
   "outputs": [
    {
     "data": {
      "text/html": [
       "<div>\n",
       "<style scoped>\n",
       "    .dataframe tbody tr th:only-of-type {\n",
       "        vertical-align: middle;\n",
       "    }\n",
       "\n",
       "    .dataframe tbody tr th {\n",
       "        vertical-align: top;\n",
       "    }\n",
       "\n",
       "    .dataframe thead th {\n",
       "        text-align: right;\n",
       "    }\n",
       "</style>\n",
       "<table border=\"1\" class=\"dataframe\">\n",
       "  <thead>\n",
       "    <tr style=\"text-align: right;\">\n",
       "      <th></th>\n",
       "      <th>reco_mother</th>\n",
       "      <th>reco_pdg</th>\n",
       "      <th>Num_neutrons</th>\n",
       "      <th>Num_muons</th>\n",
       "      <th>Num_kaons</th>\n",
       "      <th>Num_pions</th>\n",
       "      <th>Num_protons</th>\n",
       "      <th>Num_photons</th>\n",
       "      <th>Num_electrons</th>\n",
       "    </tr>\n",
       "    <tr>\n",
       "      <th>entry</th>\n",
       "      <th></th>\n",
       "      <th></th>\n",
       "      <th></th>\n",
       "      <th></th>\n",
       "      <th></th>\n",
       "      <th></th>\n",
       "      <th></th>\n",
       "      <th></th>\n",
       "      <th></th>\n",
       "    </tr>\n",
       "  </thead>\n",
       "  <tbody>\n",
       "    <tr>\n",
       "      <th>0</th>\n",
       "      <td>[]</td>\n",
       "      <td>[]</td>\n",
       "      <td>0</td>\n",
       "      <td>0</td>\n",
       "      <td>0</td>\n",
       "      <td>0</td>\n",
       "      <td>0</td>\n",
       "      <td>0</td>\n",
       "      <td>0</td>\n",
       "    </tr>\n",
       "    <tr>\n",
       "      <th>1</th>\n",
       "      <td>[]</td>\n",
       "      <td>[]</td>\n",
       "      <td>0</td>\n",
       "      <td>0</td>\n",
       "      <td>0</td>\n",
       "      <td>0</td>\n",
       "      <td>0</td>\n",
       "      <td>0</td>\n",
       "      <td>0</td>\n",
       "    </tr>\n",
       "    <tr>\n",
       "      <th>2</th>\n",
       "      <td>[]</td>\n",
       "      <td>[]</td>\n",
       "      <td>0</td>\n",
       "      <td>0</td>\n",
       "      <td>0</td>\n",
       "      <td>0</td>\n",
       "      <td>0</td>\n",
       "      <td>0</td>\n",
       "      <td>0</td>\n",
       "    </tr>\n",
       "    <tr>\n",
       "      <th>3</th>\n",
       "      <td>[]</td>\n",
       "      <td>[]</td>\n",
       "      <td>0</td>\n",
       "      <td>0</td>\n",
       "      <td>0</td>\n",
       "      <td>0</td>\n",
       "      <td>0</td>\n",
       "      <td>0</td>\n",
       "      <td>0</td>\n",
       "    </tr>\n",
       "    <tr>\n",
       "      <th>4</th>\n",
       "      <td>[]</td>\n",
       "      <td>[]</td>\n",
       "      <td>0</td>\n",
       "      <td>0</td>\n",
       "      <td>0</td>\n",
       "      <td>0</td>\n",
       "      <td>0</td>\n",
       "      <td>0</td>\n",
       "      <td>0</td>\n",
       "    </tr>\n",
       "    <tr>\n",
       "      <th>5</th>\n",
       "      <td>[]</td>\n",
       "      <td>[]</td>\n",
       "      <td>0</td>\n",
       "      <td>0</td>\n",
       "      <td>0</td>\n",
       "      <td>0</td>\n",
       "      <td>0</td>\n",
       "      <td>0</td>\n",
       "      <td>0</td>\n",
       "    </tr>\n",
       "    <tr>\n",
       "      <th>6</th>\n",
       "      <td>[0, 0, 0, 0, 76017, 71018, 72019, 73020, 74021...</td>\n",
       "      <td>[13, 2212, 2212, 2212, 11, 11, 11, 11, 211, 21...</td>\n",
       "      <td>2</td>\n",
       "      <td>1</td>\n",
       "      <td>0</td>\n",
       "      <td>0</td>\n",
       "      <td>3</td>\n",
       "      <td>3</td>\n",
       "      <td>0</td>\n",
       "    </tr>\n",
       "    <tr>\n",
       "      <th>7</th>\n",
       "      <td>[]</td>\n",
       "      <td>[]</td>\n",
       "      <td>0</td>\n",
       "      <td>0</td>\n",
       "      <td>0</td>\n",
       "      <td>0</td>\n",
       "      <td>0</td>\n",
       "      <td>0</td>\n",
       "      <td>0</td>\n",
       "    </tr>\n",
       "    <tr>\n",
       "      <th>8</th>\n",
       "      <td>[]</td>\n",
       "      <td>[]</td>\n",
       "      <td>0</td>\n",
       "      <td>0</td>\n",
       "      <td>0</td>\n",
       "      <td>0</td>\n",
       "      <td>0</td>\n",
       "      <td>0</td>\n",
       "      <td>0</td>\n",
       "    </tr>\n",
       "    <tr>\n",
       "      <th>9</th>\n",
       "      <td>[]</td>\n",
       "      <td>[]</td>\n",
       "      <td>0</td>\n",
       "      <td>0</td>\n",
       "      <td>0</td>\n",
       "      <td>0</td>\n",
       "      <td>0</td>\n",
       "      <td>0</td>\n",
       "      <td>0</td>\n",
       "    </tr>\n",
       "    <tr>\n",
       "      <th>10</th>\n",
       "      <td>[]</td>\n",
       "      <td>[]</td>\n",
       "      <td>0</td>\n",
       "      <td>0</td>\n",
       "      <td>0</td>\n",
       "      <td>0</td>\n",
       "      <td>0</td>\n",
       "      <td>0</td>\n",
       "      <td>0</td>\n",
       "    </tr>\n",
       "  </tbody>\n",
       "</table>\n",
       "</div>"
      ],
      "text/plain": [
       "                                             reco_mother  \\\n",
       "entry                                                      \n",
       "0                                                     []   \n",
       "1                                                     []   \n",
       "2                                                     []   \n",
       "3                                                     []   \n",
       "4                                                     []   \n",
       "5                                                     []   \n",
       "6      [0, 0, 0, 0, 76017, 71018, 72019, 73020, 74021...   \n",
       "7                                                     []   \n",
       "8                                                     []   \n",
       "9                                                     []   \n",
       "10                                                    []   \n",
       "\n",
       "                                                reco_pdg  Num_neutrons  \\\n",
       "entry                                                                    \n",
       "0                                                     []             0   \n",
       "1                                                     []             0   \n",
       "2                                                     []             0   \n",
       "3                                                     []             0   \n",
       "4                                                     []             0   \n",
       "5                                                     []             0   \n",
       "6      [13, 2212, 2212, 2212, 11, 11, 11, 11, 211, 21...             2   \n",
       "7                                                     []             0   \n",
       "8                                                     []             0   \n",
       "9                                                     []             0   \n",
       "10                                                    []             0   \n",
       "\n",
       "       Num_muons  Num_kaons  Num_pions  Num_protons  Num_photons  \\\n",
       "entry                                                              \n",
       "0              0          0          0            0            0   \n",
       "1              0          0          0            0            0   \n",
       "2              0          0          0            0            0   \n",
       "3              0          0          0            0            0   \n",
       "4              0          0          0            0            0   \n",
       "5              0          0          0            0            0   \n",
       "6              1          0          0            3            3   \n",
       "7              0          0          0            0            0   \n",
       "8              0          0          0            0            0   \n",
       "9              0          0          0            0            0   \n",
       "10             0          0          0            0            0   \n",
       "\n",
       "       Num_electrons  \n",
       "entry                 \n",
       "0                  0  \n",
       "1                  0  \n",
       "2                  0  \n",
       "3                  0  \n",
       "4                  0  \n",
       "5                  0  \n",
       "6                  0  \n",
       "7                  0  \n",
       "8                  0  \n",
       "9                  0  \n",
       "10                 0  "
      ]
     },
     "execution_count": 5,
     "metadata": {},
     "output_type": "execute_result"
    }
   ],
   "source": [
    "columns = ['reco_mother','reco_pdg','Num_neutrons','Num_muons','Num_kaons','Num_pions','Num_protons','Num_photons','Num_electrons']\n",
    "\n",
    "df_file2.loc[0:10,columns]"
   ]
  }
 ],
 "metadata": {
  "kernelspec": {
   "display_name": "Python 3",
   "language": "python",
   "name": "python3"
  },
  "language_info": {
   "codemirror_mode": {
    "name": "ipython",
    "version": 3
   },
   "file_extension": ".py",
   "mimetype": "text/x-python",
   "name": "python",
   "nbconvert_exporter": "python",
   "pygments_lexer": "ipython3",
   "version": "3.8.8"
  }
 },
 "nbformat": 4,
 "nbformat_minor": 5
}
