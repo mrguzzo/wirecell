{
 "cells": [
  {
   "cell_type": "code",
   "execution_count": 1,
   "metadata": {
    "jupyter": {
     "source_hidden": true
    },
    "tags": []
   },
   "outputs": [],
   "source": [
    "import numpy as np\n",
    "import matplotlib.pyplot as plt\n",
    "import uproot3 as uproot\n",
    "import pandas as pd"
   ]
  },
  {
   "cell_type": "code",
   "execution_count": null,
   "metadata": {},
   "outputs": [],
   "source": []
  },
  {
   "cell_type": "markdown",
   "metadata": {},
   "source": [
    "# Variables "
   ]
  },
  {
   "cell_type": "code",
   "execution_count": 2,
   "metadata": {},
   "outputs": [],
   "source": [
    "kine_vars   = ['kine_reco_Enu']\n",
    "bdt_vars    = ['numu_cc_flag','nue_score']\n",
    "pot_vars    = ['pot_tor875']\n",
    "pfeval_vars = ['truth_corr_nuvtxX','truth_corr_nuvtxY','truth_corr_nuvtxZ']\n",
    "eval_vars   = ['truth_isCC','truth_nuPdg','truth_vtxInside','weight_spline', 'weight_cv']"
   ]
  },
  {
   "cell_type": "markdown",
   "metadata": {},
   "source": [
    "# Functions"
   ]
  },
  {
   "cell_type": "code",
   "execution_count": 3,
   "metadata": {},
   "outputs": [],
   "source": [
    "def create_dataframe(file, family):\n",
    "\n",
    "    # --- import trees and variables\n",
    "    T_pot = uproot.open(file)['wcpselection/T_pot']\n",
    "    df_pot = T_pot.pandas.df(pot_vars, flatten=False)\n",
    "\n",
    "    T_KINE = uproot.open(file)['wcpselection/T_KINEvars']\n",
    "    df_KINE = T_KINE.pandas.df(kine_vars, flatten=False)\n",
    "\n",
    "    T_BDT = uproot.open(file)['wcpselection/T_BDTvars']\n",
    "    df_BDT = T_BDT.pandas.df(bdt_vars, flatten=False)\n",
    "            \n",
    "    T_PFeval = uproot.open(file)['wcpselection/T_PFeval']\n",
    "    df_PFeval = T_PFeval.pandas.df(pfeval_vars, flatten=False)\n",
    "\n",
    "    T_eval = uproot.open(file)['wcpselection/T_eval']\n",
    "    df_eval = T_eval.pandas.df(eval_vars, flatten=False)\n",
    "\n",
    "    # --- merge dataframes        \n",
    "    df = pd.concat([df_KINE, df_PFeval, df_BDT, df_eval], axis=1)\n",
    "\n",
    "    # -------------------------------------------------- #\n",
    "    #     calculate cos_theta wrt the beam direction     #\n",
    "    # -------------------------------------------------- #\n",
    "    \n",
    "    T_PFeval_cos_theta = uproot.open(file)['wcpselection/T_PFeval']\n",
    "    df_PFeval_cos_theta = T_PFeval_cos_theta.pandas.df(\"reco_showerMomentum\", flatten=False)\n",
    "\n",
    "    # get vectors\n",
    "    v_targ_uboone = [-31387.58422, -3316.402543, -60100.2414]\n",
    "    v_shower_direction = [df_PFeval_cos_theta['reco_showerMomentum[0]'],df_PFeval_cos_theta['reco_showerMomentum[1]'],df_PFeval_cos_theta['reco_showerMomentum[2]']]\n",
    "\n",
    "    # normalise vectors\n",
    "    unit_v_targ_uboone = v_targ_uboone / np.linalg.norm(v_targ_uboone)\n",
    "    unit_v_shower_direction = v_shower_direction / np.linalg.norm(v_shower_direction)\n",
    "\n",
    "    # calculate cos theta\n",
    "    cos_theta = np.dot(-unit_v_targ_uboone,unit_v_shower_direction)\n",
    "\n",
    "    df.loc[:,'cos_theta'] = cos_theta\n",
    "\n",
    "    # ------------------- #\n",
    "    #    calculate POT    #\n",
    "    # ------------------- #\n",
    "\n",
    "    POT = sum(df_pot.pot_tor875)\n",
    "    #print('POT = %.2e' % POT)\n",
    "\n",
    "    # ----------------- #\n",
    "    #    fix weights    #\n",
    "    # ----------------- #\n",
    "\n",
    "    # --- make sure weights are valid numbers  \n",
    "  \n",
    "    df.loc[ df['weight_cv']<=0, 'weight_cv' ] = 1\n",
    "    df.loc[ df['weight_cv']>30, 'weight_cv' ] = 1\n",
    "    df.loc[ df['weight_cv']==np.nan, 'weight_cv' ] = 1\n",
    "    df.loc[ df['weight_cv']==np.inf, 'weight_cv' ] = 1\n",
    "    df.loc[ df['weight_cv'].isna(), 'weight_cv' ] = 1\n",
    "    df.loc[ df['weight_spline']<=0, 'weight_spline' ] = 1\n",
    "    df.loc[ df['weight_spline']>30, 'weight_spline' ] = 1\n",
    "    df.loc[ df['weight_spline']==np.nan, 'weight_spline' ] = 1\n",
    "    df.loc[ df['weight_spline']==np.inf, 'weight_spline' ] = 1\n",
    "    df.loc[ df['weight_spline'].isna(), 'weight_spline'] = 1\n",
    "\n",
    "    # --- calculate weight\n",
    "\n",
    "    if(family=='NUE'): W_ = 1\n",
    "    elif(family=='MC'): W_ = 1#POT/POT_NUE\n",
    "\n",
    "    #print('W_ = %.2e' % W_)\n",
    "\n",
    "    df.loc[:,'weight_genie'] = df['weight_cv']*df['weight_spline']\n",
    "    df.loc[:,'weight'] = [W_]*df.shape[0]*df['weight_genie']\n",
    "\n",
    "    # -------------------------------------------------------------------------------------- intrinsuc nue/overlay tag\n",
    "\n",
    "    # variable created to classify signal and background dataframes\n",
    "\n",
    "    if(family=='NUE'): df.loc[:,'original_file'] = 0\n",
    "    elif(family=='MC'): df.loc[:,'original_file'] = 1\n",
    "\n",
    "    # -------------------------------------------------------------------------------------- delete dataframes\n",
    "\n",
    "    del df_pot\n",
    "    del df_KINE\n",
    "    del df_BDT \n",
    "    del df_PFeval \n",
    "    del df_eval\n",
    "\n",
    "    return df, POT"
   ]
  },
  {
   "cell_type": "markdown",
   "metadata": {},
   "source": [
    "# Open files"
   ]
  },
  {
   "cell_type": "code",
   "execution_count": 4,
   "metadata": {},
   "outputs": [],
   "source": [
    "filename_nue = '../rootfiles/checkout_prodgenie_numi_intrinsic_nue_overlay_run1_OFFSETFIXED2.root'\n",
    "filename_overlay = '../rootfiles/checkout_prodgenie_numi_overlay_run1.root'\n",
    "\n",
    "df_intrinsic_nue, POT_NUE = create_dataframe(filename_nue,'NUE')\n",
    "df_overlay, POT_MC = create_dataframe(filename_overlay,'MC')"
   ]
  },
  {
   "cell_type": "code",
   "execution_count": 6,
   "metadata": {},
   "outputs": [],
   "source": [
    "def define_signal(df):\n",
    "    df_ = df[ (df.truth_nuPdg==-12) | (df.truth_nuPdg==12) ]                # PDG definition\n",
    "    df_ = df_[df_.truth_isCC==1]                                            # apply CC interaction condition \n",
    "    df_ = df_[df_.truth_vtxInside==1]                                       # apply in active volume condition\n",
    "    df_ = apply_gen_nu_selection(df_)                                       # apply generic neutrino selection\n",
    "    df_ = apply_vtx_quality(df_)                                            # check reco-true vertex distance\n",
    "    return df_\n",
    "    \n",
    "def define_background(df):\n",
    "    df_ = df[ (df.truth_nuPdg!=-12) & (df.truth_nuPdg!=12) ]\n",
    "    df_ = df_[df_.truth_isCC==1]\n",
    "    df_ = df_[df_.truth_vtxInside==1]\n",
    "    df_ = apply_gen_nu_selection(df_)\n",
    "    return df_"
   ]
  },
  {
   "cell_type": "code",
   "execution_count": null,
   "metadata": {},
   "outputs": [],
   "source": []
  }
 ],
 "metadata": {
  "kernelspec": {
   "display_name": "Python 3",
   "language": "python",
   "name": "python3"
  },
  "language_info": {
   "codemirror_mode": {
    "name": "ipython",
    "version": 3
   },
   "file_extension": ".py",
   "mimetype": "text/x-python",
   "name": "python",
   "nbconvert_exporter": "python",
   "pygments_lexer": "ipython3",
   "version": "3.8.8"
  }
 },
 "nbformat": 4,
 "nbformat_minor": 4
}
