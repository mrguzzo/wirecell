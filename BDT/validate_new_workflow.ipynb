{
 "cells": [
  {
   "cell_type": "raw",
   "id": "ecc45507-403c-4b05-929a-c85599ab5ac2",
   "metadata": {},
   "source": [
    "Marina Reggiani-Guzzo\n",
    "July 19, 2021\n",
    "\n",
    "This code makes a quick comparison between three overlay/intrinsic nue files. The main goal is to validate the new samples we generated using the unified workflow. \n",
    "\n",
    "1. So first I check the number of entries per tree and the total POT. \n",
    "\n",
    "2. And then I plot the difference between a few variables. Ideally it should be a peak centered at zero."
   ]
  },
  {
   "cell_type": "code",
   "execution_count": 1,
   "id": "5177cf41-d5f7-491a-959d-b7f90ee129a5",
   "metadata": {},
   "outputs": [],
   "source": [
    "import math \n",
    "import numpy as np\n",
    "import pandas as pd\n",
    "import matplotlib.pyplot as plt\n",
    "from matplotlib import gridspec\n",
    "\n",
    "import uproot3 as uproot\n",
    "\n",
    "from sklearn.model_selection import GridSearchCV, train_test_split, cross_val_score\n",
    "from sklearn.utils import shuffle\n",
    "from sklearn.metrics import confusion_matrix, precision_score, recall_score, roc_curve, roc_auc_score, accuracy_score, f1_score\n",
    "\n",
    "import xgboost\n",
    "from xgboost import XGBClassifier"
   ]
  },
  {
   "cell_type": "markdown",
   "id": "41883376-19b0-4ec5-bb78-6bf4ba41fb79",
   "metadata": {},
   "source": [
    "# Import files"
   ]
  },
  {
   "cell_type": "code",
   "execution_count": 2,
   "id": "11a6b672-6578-4b93-bb4b-ec95fd821a00",
   "metadata": {},
   "outputs": [],
   "source": [
    "# --- overlay sample\n",
    "#file1 = '../rootfiles/checkout_prodgenie_numi_overlay_run1.root'\n",
    "#file2 = '../rootfiles/output.root' # new sample generated using the unified workflow\n",
    "#file3 = '../rootfiles/checkout_prodgenie_numi_overlay_run1_OFFSETFIXED2.root'\n",
    "\n",
    "\n",
    "# --- intrinsic nue sample\n",
    "file1 = '../rootfiles/checkout_prodgenie_numi_intrinsic_nue_overlay_run1.root'\n",
    "file2 = '../rootfiles/checkout_intrinsic_nue_numi_run1_particle_flow.root' # new sample generated using the unified workflow\n",
    "file3 = '../rootfiles/checkout_prodgenie_numi_intrinsic_nue_overlay_run1_OFFSETFIXED2.root'"
   ]
  },
  {
   "cell_type": "markdown",
   "id": "b6bf9334-6979-4407-a381-9e04a49caa20",
   "metadata": {},
   "source": [
    "# Calculate number of entries and POT"
   ]
  },
  {
   "cell_type": "code",
   "execution_count": 3,
   "id": "d33177c3-2870-4f50-acc9-f083256e47f1",
   "metadata": {},
   "outputs": [
    {
     "name": "stdout",
     "output_type": "stream",
     "text": [
      "../rootfiles/checkout_prodgenie_numi_intrinsic_nue_overlay_run1.root\n",
      "T_pot     15581 entries\n",
      "T_kine    71958 entries\n",
      "T_BDT     71958 entries\n",
      "T_PFeval  71958 entries\n",
      "T_eval    71958 entries\n",
      "POT       1.35e+22\n",
      "Entries   71958\n",
      "\n",
      "../rootfiles/checkout_intrinsic_nue_numi_run1_particle_flow.root\n",
      "T_pot     26013 entries\n",
      "T_kine    125501 entries\n",
      "T_BDT     125501 entries\n",
      "T_PFeval  125501 entries\n",
      "T_eval    125501 entries\n",
      "POT       5.25e+07\n",
      "Entries   125501\n",
      "\n",
      "../rootfiles/checkout_prodgenie_numi_intrinsic_nue_overlay_run1_OFFSETFIXED2.root\n",
      "T_pot     21033 entries\n",
      "T_kine    98298 entries\n",
      "T_BDT     98298 entries\n",
      "T_PFeval  98298 entries\n",
      "T_eval    98298 entries\n",
      "POT       1.84e+22\n",
      "Entries   98298\n",
      "\n"
     ]
    }
   ],
   "source": [
    "kine_vars   = ['kine_reco_Enu','kine_pio_vtx_dis','kine_pio_energy_1']\n",
    "bdt_vars    = ['numu_cc_flag','nue_score']\n",
    "pot_vars    = ['pot_tor875']\n",
    "pfeval_vars = ['truth_corr_nuvtxX','truth_corr_nuvtxY','truth_corr_nuvtxZ','reco_nuvtxX', 'reco_nuvtxY', 'reco_nuvtxZ']\n",
    "eval_vars   = ['truth_isCC','truth_nuPdg','truth_vtxInside','weight_spline', 'weight_cv',\n",
    "               'match_found', 'stm_eventtype', 'stm_lowenergy', 'stm_LM', 'stm_TGM', 'stm_STM', 'stm_FullDead','stm_clusterlength',\n",
    "               'truth_energyInside', 'match_completeness_energy']\n",
    "\n",
    "# --- variables calculated by me\n",
    "extra_vars  = ['cos_theta'] \n",
    "\n",
    "\n",
    "def create_dataframe(file, family):\n",
    "\n",
    "    # --- import trees and variables\n",
    "    T_pot = uproot.open(file)['wcpselection/T_pot']\n",
    "    df_pot = T_pot.pandas.df(pot_vars, flatten=False)\n",
    "    print('T_pot     %i entries' % len(df_pot))\n",
    "    \n",
    "    T_KINE = uproot.open(file)['wcpselection/T_KINEvars']\n",
    "    df_KINE = T_KINE.pandas.df(kine_vars, flatten=False)\n",
    "    print('T_kine    %i entries' % len(df_KINE))\n",
    "\n",
    "    T_BDT = uproot.open(file)['wcpselection/T_BDTvars']\n",
    "    df_BDT = T_BDT.pandas.df(bdt_vars, flatten=False)\n",
    "    print('T_BDT     %i entries' % len(df_BDT))\n",
    "            \n",
    "    T_PFeval = uproot.open(file)['wcpselection/T_PFeval']\n",
    "    df_PFeval = T_PFeval.pandas.df(pfeval_vars, flatten=False)\n",
    "    print('T_PFeval  %i entries' % len(df_PFeval))\n",
    "\n",
    "    T_eval = uproot.open(file)['wcpselection/T_eval']\n",
    "    df_eval = T_eval.pandas.df(eval_vars, flatten=False)\n",
    "    print('T_eval    %i entries' % len(df_eval))\n",
    "\n",
    "    # --- merge dataframes\n",
    "    df = pd.concat([df_KINE, df_PFeval, df_BDT, df_eval], axis=1)\n",
    "\n",
    "    # --- calculate POT\n",
    "    POT = sum(df_pot.pot_tor875)\n",
    "\n",
    "    return df, POT\n",
    "\n",
    "print('%s' % file1)\n",
    "df_file1, POT1 = create_dataframe(file1,'MC')\n",
    "print('POT       %.2e' % POT1)\n",
    "print('Entries   %i\\n' % len(df_file1))\n",
    "\n",
    "print('%s' % file2)\n",
    "df_file2, POT2 = create_dataframe(file2,'MC')\n",
    "print('POT       %.2e' % POT2)\n",
    "print('Entries   %i\\n' % len(df_file2))\n",
    "\n",
    "print('%s' % file3)\n",
    "df_file3, POT3 = create_dataframe(file3,'MC')\n",
    "print('POT       %.2e' % POT3)\n",
    "print('Entries   %i\\n' % len(df_file3))"
   ]
  },
  {
   "cell_type": "markdown",
   "id": "a303dfc8-a5f3-43b2-b4f3-9f7fe28c2fb7",
   "metadata": {},
   "source": [
    "# Plot difference between file2-file1"
   ]
  },
  {
   "cell_type": "code",
   "execution_count": 4,
   "id": "178cd43b-125f-437a-9da8-a6ca1852bcfd",
   "metadata": {},
   "outputs": [
    {
     "data": {
      "image/png": "[encoded data removed]",
      "text/plain": [
       "<Figure size 1080x360 with 3 Axes>"
      ]
     },
     "metadata": {
      "needs_background": "light"
     },
     "output_type": "display_data"
    }
   ],
   "source": [
    "legend_size = 12\n",
    "\n",
    "plt.figure(figsize=(15,5))\n",
    "\n",
    "plt.subplot(131)\n",
    "plt.hist(df_file2.kine_reco_Enu-df_file1.kine_reco_Enu, label='kine_reco_Enu')\n",
    "plt.legend(loc='best', prop={'size': legend_size})\n",
    "\n",
    "plt.subplot(132)\n",
    "plt.hist(df_file2.kine_pio_vtx_dis-df_file1.kine_pio_vtx_dis, label='kine_pio_vtx_dis')\n",
    "plt.legend(loc='best', prop={'size': legend_size})\n",
    "\n",
    "plt.subplot(133)\n",
    "plt.hist(df_file2.kine_pio_energy_1-df_file1.kine_pio_energy_1, label='kine_pio_energy_1')\n",
    "plt.legend(loc='best', prop={'size': legend_size})\n",
    "\n",
    "plt.tight_layout()"
   ]
  },
  {
   "cell_type": "markdown",
   "id": "78a0e2b3-7d6c-47cb-97fc-6e39f44e24b0",
   "metadata": {},
   "source": [
    "# Plot the difference between file2-file3"
   ]
  },
  {
   "cell_type": "code",
   "execution_count": 5,
   "id": "d8c5eb4b-706c-4a50-ac4f-234cd0e17e88",
   "metadata": {},
   "outputs": [
    {
     "data": {
      "image/png": "[encoded data removed]",
      "text/plain": [
       "<Figure size 1080x360 with 3 Axes>"
      ]
     },
     "metadata": {
      "needs_background": "light"
     },
     "output_type": "display_data"
    }
   ],
   "source": [
    "plt.figure(figsize=(15,5))\n",
    "\n",
    "plt.subplot(131)\n",
    "plt.hist(df_file2.kine_reco_Enu-df_file3.kine_reco_Enu, label='kine_reco_Enu')\n",
    "plt.legend(loc='best', prop={'size': legend_size})\n",
    "\n",
    "plt.subplot(132)\n",
    "plt.hist(df_file2.kine_pio_vtx_dis-df_file3.kine_pio_vtx_dis, label='kine_pio_vtx_dis')\n",
    "plt.legend(loc='best', prop={'size': legend_size})\n",
    "\n",
    "plt.subplot(133)\n",
    "plt.hist(df_file2.kine_pio_energy_1-df_file3.kine_pio_energy_1, label='kine_pio_energy_1')\n",
    "plt.legend(loc='best', prop={'size': legend_size})\n",
    "\n",
    "plt.tight_layout()"
   ]
  }
 ],
 "metadata": {
  "kernelspec": {
   "display_name": "Python 3",
   "language": "python",
   "name": "python3"
  },
  "language_info": {
   "codemirror_mode": {
    "name": "ipython",
    "version": 3
   },
   "file_extension": ".py",
   "mimetype": "text/x-python",
   "name": "python",
   "nbconvert_exporter": "python",
   "pygments_lexer": "ipython3",
   "version": "3.8.8"
  }
 },
 "nbformat": 4,
 "nbformat_minor": 5
}
